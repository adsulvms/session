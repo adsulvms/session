{
 "cells": [
  {
   "cell_type": "code",
   "execution_count": 1,
   "id": "2492e4ad",
   "metadata": {},
   "outputs": [],
   "source": [
    "a={}"
   ]
  },
  {
   "cell_type": "code",
   "execution_count": 2,
   "id": "0d1e6613",
   "metadata": {},
   "outputs": [
    {
     "data": {
      "text/plain": [
       "dict"
      ]
     },
     "execution_count": 2,
     "metadata": {},
     "output_type": "execute_result"
    }
   ],
   "source": [
    "type(a)"
   ]
  },
  {
   "cell_type": "code",
   "execution_count": 3,
   "id": "3c4ffbed",
   "metadata": {},
   "outputs": [
    {
     "ename": "SyntaxError",
     "evalue": "invalid syntax (Temp/ipykernel_15464/2074940776.py, line 1)",
     "output_type": "error",
     "traceback": [
      "\u001b[1;36m  File \u001b[1;32m\"C:\\Users\\shree\\AppData\\Local\\Temp/ipykernel_15464/2074940776.py\"\u001b[1;36m, line \u001b[1;32m1\u001b[0m\n\u001b[1;33m    b=set{}\u001b[0m\n\u001b[1;37m         ^\u001b[0m\n\u001b[1;31mSyntaxError\u001b[0m\u001b[1;31m:\u001b[0m invalid syntax\n"
     ]
    }
   ],
   "source": [
    "b=set{}"
   ]
  },
  {
   "cell_type": "code",
   "execution_count": 4,
   "id": "7b215bc8",
   "metadata": {},
   "outputs": [],
   "source": [
    "b=set()"
   ]
  },
  {
   "cell_type": "code",
   "execution_count": 5,
   "id": "3519442e",
   "metadata": {},
   "outputs": [
    {
     "data": {
      "text/plain": [
       "set"
      ]
     },
     "execution_count": 5,
     "metadata": {},
     "output_type": "execute_result"
    }
   ],
   "source": [
    "type(b)"
   ]
  },
  {
   "cell_type": "markdown",
   "id": "2aafc49d",
   "metadata": {},
   "source": [
    "### Map and filter"
   ]
  },
  {
   "cell_type": "code",
   "execution_count": 7,
   "id": "894508d2",
   "metadata": {},
   "outputs": [],
   "source": [
    "data=[10,20,30,40,50]"
   ]
  },
  {
   "cell_type": "code",
   "execution_count": 8,
   "id": "31e82d01",
   "metadata": {},
   "outputs": [
    {
     "data": {
      "text/plain": [
       "[10, 20, 30, 40, 50]"
      ]
     },
     "execution_count": 8,
     "metadata": {},
     "output_type": "execute_result"
    }
   ],
   "source": [
    "data"
   ]
  },
  {
   "cell_type": "code",
   "execution_count": 9,
   "id": "0066c1e0",
   "metadata": {},
   "outputs": [
    {
     "data": {
      "text/plain": [
       "type"
      ]
     },
     "execution_count": 9,
     "metadata": {},
     "output_type": "execute_result"
    }
   ],
   "source": [
    "type"
   ]
  },
  {
   "cell_type": "code",
   "execution_count": 10,
   "id": "e72fcbeb",
   "metadata": {},
   "outputs": [
    {
     "data": {
      "text/plain": [
       "list"
      ]
     },
     "execution_count": 10,
     "metadata": {},
     "output_type": "execute_result"
    }
   ],
   "source": [
    "type(data)"
   ]
  },
  {
   "cell_type": "code",
   "execution_count": 11,
   "id": "5fc3627f",
   "metadata": {},
   "outputs": [],
   "source": [
    "def find_square(n):\n",
    "    return n*n"
   ]
  },
  {
   "cell_type": "code",
   "execution_count": 12,
   "id": "f06aa428",
   "metadata": {},
   "outputs": [
    {
     "data": {
      "text/plain": [
       "<map at 0x252bf413910>"
      ]
     },
     "execution_count": 12,
     "metadata": {},
     "output_type": "execute_result"
    }
   ],
   "source": [
    "map(find_square,data)"
   ]
  },
  {
   "cell_type": "code",
   "execution_count": 13,
   "id": "9cd240b0",
   "metadata": {},
   "outputs": [
    {
     "data": {
      "text/plain": [
       "[100, 400, 900, 1600, 2500]"
      ]
     },
     "execution_count": 13,
     "metadata": {},
     "output_type": "execute_result"
    }
   ],
   "source": [
    "list(map(find_square,data))"
   ]
  },
  {
   "cell_type": "code",
   "execution_count": 14,
   "id": "af4c05ae",
   "metadata": {},
   "outputs": [],
   "source": [
    "lamb_cube=lambda x:x**3"
   ]
  },
  {
   "cell_type": "code",
   "execution_count": 15,
   "id": "5103d52f",
   "metadata": {},
   "outputs": [
    {
     "data": {
      "text/plain": [
       "<function __main__.<lambda>(x)>"
      ]
     },
     "execution_count": 15,
     "metadata": {},
     "output_type": "execute_result"
    }
   ],
   "source": [
    "lamb_cube"
   ]
  },
  {
   "cell_type": "code",
   "execution_count": null,
   "id": "fa0371ed",
   "metadata": {},
   "outputs": [],
   "source": []
  },
  {
   "cell_type": "code",
   "execution_count": 16,
   "id": "43a36450",
   "metadata": {},
   "outputs": [
    {
     "data": {
      "text/plain": [
       "(1000, 8000, 27000, 64000, 125000)"
      ]
     },
     "execution_count": 16,
     "metadata": {},
     "output_type": "execute_result"
    }
   ],
   "source": [
    "tuple(map(lamb_cube,data))"
   ]
  },
  {
   "cell_type": "code",
   "execution_count": 17,
   "id": "f4b75d80",
   "metadata": {},
   "outputs": [
    {
     "data": {
      "text/plain": [
       "[1000, 8000, 27000, 64000, 125000]"
      ]
     },
     "execution_count": 17,
     "metadata": {},
     "output_type": "execute_result"
    }
   ],
   "source": [
    "list(map(lamb_cube,data))"
   ]
  },
  {
   "cell_type": "code",
   "execution_count": 18,
   "id": "5122eba5",
   "metadata": {},
   "outputs": [
    {
     "data": {
      "text/plain": [
       "[10, 20, 30, 40, 50]"
      ]
     },
     "execution_count": 18,
     "metadata": {},
     "output_type": "execute_result"
    }
   ],
   "source": [
    "data"
   ]
  },
  {
   "cell_type": "code",
   "execution_count": 20,
   "id": "0d3ec710",
   "metadata": {},
   "outputs": [
    {
     "data": {
      "text/plain": [
       "[True, True, True, True, True]"
      ]
     },
     "execution_count": 20,
     "metadata": {},
     "output_type": "execute_result"
    }
   ],
   "source": [
    "list(map(lambda a:a%2==0,data))"
   ]
  },
  {
   "cell_type": "code",
   "execution_count": 21,
   "id": "eb24d3c4",
   "metadata": {},
   "outputs": [],
   "source": [
    "data.append(55)"
   ]
  },
  {
   "cell_type": "code",
   "execution_count": 22,
   "id": "91560c5b",
   "metadata": {},
   "outputs": [],
   "source": [
    "data.append(56)"
   ]
  },
  {
   "cell_type": "code",
   "execution_count": 23,
   "id": "1c91e761",
   "metadata": {},
   "outputs": [],
   "source": [
    "data.append(7)"
   ]
  },
  {
   "cell_type": "code",
   "execution_count": 24,
   "id": "84dd629d",
   "metadata": {},
   "outputs": [
    {
     "data": {
      "text/plain": [
       "[True, True, True, True, True, False, True, False]"
      ]
     },
     "execution_count": 24,
     "metadata": {},
     "output_type": "execute_result"
    }
   ],
   "source": [
    "list(map(lambda a:a%2==0,data))"
   ]
  },
  {
   "cell_type": "code",
   "execution_count": 25,
   "id": "fc532977",
   "metadata": {},
   "outputs": [
    {
     "data": {
      "text/plain": [
       "[10, 20, 30, 40, 50, 56]"
      ]
     },
     "execution_count": 25,
     "metadata": {},
     "output_type": "execute_result"
    }
   ],
   "source": [
    "list(filter(lambda a:a%2==0,data))"
   ]
  },
  {
   "cell_type": "code",
   "execution_count": 26,
   "id": "6a673515",
   "metadata": {},
   "outputs": [],
   "source": [
    "text_data=[\"sachin\",\"rahul\",\"rohit\",\"saurav\"]"
   ]
  },
  {
   "cell_type": "code",
   "execution_count": 31,
   "id": "de9d18ca",
   "metadata": {},
   "outputs": [
    {
     "data": {
      "text/plain": [
       "<function __main__.<lambda>(a)>"
      ]
     },
     "execution_count": 31,
     "metadata": {},
     "output_type": "execute_result"
    }
   ],
   "source": [
    "lambda a:a[0]=='s'"
   ]
  },
  {
   "cell_type": "code",
   "execution_count": 33,
   "id": "5053c352",
   "metadata": {},
   "outputs": [
    {
     "data": {
      "text/plain": [
       "[True, False, False, True]"
      ]
     },
     "execution_count": 33,
     "metadata": {},
     "output_type": "execute_result"
    }
   ],
   "source": [
    "list(map(lambda a:a[0]=='s',text_data))"
   ]
  },
  {
   "cell_type": "code",
   "execution_count": 34,
   "id": "609b7db6",
   "metadata": {},
   "outputs": [
    {
     "data": {
      "text/plain": [
       "['sachin', 'saurav']"
      ]
     },
     "execution_count": 34,
     "metadata": {},
     "output_type": "execute_result"
    }
   ],
   "source": [
    "list(filter(lambda a:a[0]=='s',text_data))"
   ]
  },
  {
   "cell_type": "markdown",
   "id": "b1f34245",
   "metadata": {},
   "source": [
    "### methods"
   ]
  },
  {
   "cell_type": "code",
   "execution_count": 35,
   "id": "97cd0867",
   "metadata": {},
   "outputs": [
    {
     "data": {
      "text/plain": [
       "[50, 55, 60, 65, 70, 75, 80, 85, 90, 95]"
      ]
     },
     "execution_count": 35,
     "metadata": {},
     "output_type": "execute_result"
    }
   ],
   "source": [
    "list(range(50,100,5))"
   ]
  },
  {
   "cell_type": "code",
   "execution_count": 36,
   "id": "a95661fd",
   "metadata": {},
   "outputs": [],
   "source": [
    "data=\"hello everyone we are learning ,basic of python! and this is very important ,so practise\""
   ]
  },
  {
   "cell_type": "code",
   "execution_count": 37,
   "id": "b71381f8",
   "metadata": {},
   "outputs": [
    {
     "data": {
      "text/plain": [
       "str"
      ]
     },
     "execution_count": 37,
     "metadata": {},
     "output_type": "execute_result"
    }
   ],
   "source": [
    "type(data)"
   ]
  },
  {
   "cell_type": "code",
   "execution_count": 38,
   "id": "99961ffb",
   "metadata": {},
   "outputs": [
    {
     "data": {
      "text/plain": [
       "['hello',\n",
       " 'everyone',\n",
       " 'we',\n",
       " 'are',\n",
       " 'learning',\n",
       " ',basic',\n",
       " 'of',\n",
       " 'python!',\n",
       " 'and',\n",
       " 'this',\n",
       " 'is',\n",
       " 'very',\n",
       " 'important',\n",
       " ',so',\n",
       " 'practise']"
      ]
     },
     "execution_count": 38,
     "metadata": {},
     "output_type": "execute_result"
    }
   ],
   "source": [
    "data.split()"
   ]
  },
  {
   "cell_type": "code",
   "execution_count": 39,
   "id": "841d0d87",
   "metadata": {},
   "outputs": [
    {
     "data": {
      "text/plain": [
       "'and'"
      ]
     },
     "execution_count": 39,
     "metadata": {},
     "output_type": "execute_result"
    }
   ],
   "source": [
    "data.split()[8]"
   ]
  },
  {
   "cell_type": "code",
   "execution_count": 42,
   "id": "c306a2ac",
   "metadata": {},
   "outputs": [
    {
     "data": {
      "text/plain": [
       "['hello everyone we are learning ',\n",
       " 'basic of python! and this is very important ',\n",
       " 'so practise']"
      ]
     },
     "execution_count": 42,
     "metadata": {},
     "output_type": "execute_result"
    }
   ],
   "source": [
    "data.split(\",\")"
   ]
  },
  {
   "cell_type": "code",
   "execution_count": 43,
   "id": "c54351a9",
   "metadata": {},
   "outputs": [
    {
     "data": {
      "text/plain": [
       "['hello everyone we are learning ,basic of python',\n",
       " ' and this is very important ,so practise']"
      ]
     },
     "execution_count": 43,
     "metadata": {},
     "output_type": "execute_result"
    }
   ],
   "source": [
    "data.split(\"!\")"
   ]
  },
  {
   "cell_type": "code",
   "execution_count": 44,
   "id": "2b30109e",
   "metadata": {},
   "outputs": [
    {
     "data": {
      "text/plain": [
       "['hello everyone we are learning ,basic of ',\n",
       " 'ython! and this is very im',\n",
       " 'ortant ,so ',\n",
       " 'ractise']"
      ]
     },
     "execution_count": 44,
     "metadata": {},
     "output_type": "execute_result"
    }
   ],
   "source": [
    "data.split(\"p\")"
   ]
  },
  {
   "cell_type": "code",
   "execution_count": 45,
   "id": "f7acd089",
   "metadata": {},
   "outputs": [
    {
     "data": {
      "text/plain": [
       "False"
      ]
     },
     "execution_count": 45,
     "metadata": {},
     "output_type": "execute_result"
    }
   ],
   "source": [
    "'P' in data"
   ]
  },
  {
   "cell_type": "code",
   "execution_count": 46,
   "id": "11da493d",
   "metadata": {},
   "outputs": [
    {
     "data": {
      "text/plain": [
       "True"
      ]
     },
     "execution_count": 46,
     "metadata": {},
     "output_type": "execute_result"
    }
   ],
   "source": [
    "'P' not in data"
   ]
  },
  {
   "cell_type": "code",
   "execution_count": 47,
   "id": "1babbad0",
   "metadata": {},
   "outputs": [
    {
     "data": {
      "text/plain": [
       "['hello', 'india', 78, 500, 'hi', 'python']"
      ]
     },
     "execution_count": 47,
     "metadata": {},
     "output_type": "execute_result"
    }
   ],
   "source": [
    "[\"hello\",'india',78,500,\"hi\",\"python\"]"
   ]
  },
  {
   "cell_type": "code",
   "execution_count": 49,
   "id": "4ce1d4bc",
   "metadata": {},
   "outputs": [
    {
     "data": {
      "text/plain": [
       "True"
      ]
     },
     "execution_count": 49,
     "metadata": {},
     "output_type": "execute_result"
    }
   ],
   "source": [
    "\"hi\" in [\"hello\",'india',78,500,\"hi\",\"python\"]"
   ]
  },
  {
   "cell_type": "code",
   "execution_count": 50,
   "id": "703db3a1",
   "metadata": {},
   "outputs": [
    {
     "data": {
      "text/plain": [
       "True"
      ]
     },
     "execution_count": 50,
     "metadata": {},
     "output_type": "execute_result"
    }
   ],
   "source": [
    "78 in [\"hello\",'india',78,500,\"hi\",\"python\"]"
   ]
  },
  {
   "cell_type": "code",
   "execution_count": 51,
   "id": "265959f0",
   "metadata": {},
   "outputs": [],
   "source": [
    "## Tuble Unpacking"
   ]
  },
  {
   "cell_type": "code",
   "execution_count": 62,
   "id": "034102b6",
   "metadata": {},
   "outputs": [],
   "source": [
    "data=[(11,12),(13,14),(15,16)]"
   ]
  },
  {
   "cell_type": "code",
   "execution_count": 63,
   "id": "164eaa39",
   "metadata": {},
   "outputs": [
    {
     "data": {
      "text/plain": [
       "13"
      ]
     },
     "execution_count": 63,
     "metadata": {},
     "output_type": "execute_result"
    }
   ],
   "source": [
    "data[1][0]"
   ]
  },
  {
   "cell_type": "code",
   "execution_count": 64,
   "id": "1871c764",
   "metadata": {},
   "outputs": [
    {
     "data": {
      "text/plain": [
       "(13, 14)"
      ]
     },
     "execution_count": 64,
     "metadata": {},
     "output_type": "execute_result"
    }
   ],
   "source": [
    "data[1]"
   ]
  },
  {
   "cell_type": "code",
   "execution_count": 65,
   "id": "2aadda57",
   "metadata": {},
   "outputs": [
    {
     "data": {
      "text/plain": [
       "[(11, 12), (13, 14), (15, 16)]"
      ]
     },
     "execution_count": 65,
     "metadata": {},
     "output_type": "execute_result"
    }
   ],
   "source": [
    "data"
   ]
  },
  {
   "cell_type": "code",
   "execution_count": 66,
   "id": "b631d07f",
   "metadata": {},
   "outputs": [
    {
     "name": "stdout",
     "output_type": "stream",
     "text": [
      "(11, 12)\n",
      "(13, 14)\n",
      "(15, 16)\n"
     ]
    }
   ],
   "source": [
    "for i in data:\n",
    "    print(i)"
   ]
  },
  {
   "cell_type": "code",
   "execution_count": 67,
   "id": "2ddaec5d",
   "metadata": {},
   "outputs": [
    {
     "name": "stdout",
     "output_type": "stream",
     "text": [
      "11\n",
      "13\n",
      "15\n"
     ]
    }
   ],
   "source": [
    "for i in data:\n",
    "    print(i[0])"
   ]
  },
  {
   "cell_type": "code",
   "execution_count": 68,
   "id": "1b996644",
   "metadata": {},
   "outputs": [
    {
     "name": "stdout",
     "output_type": "stream",
     "text": [
      "12\n",
      "14\n",
      "16\n"
     ]
    }
   ],
   "source": [
    "for i in data:\n",
    "    print(i[1])"
   ]
  },
  {
   "cell_type": "code",
   "execution_count": 69,
   "id": "b9b3e44a",
   "metadata": {},
   "outputs": [
    {
     "name": "stdout",
     "output_type": "stream",
     "text": [
      "11\n",
      "13\n",
      "15\n"
     ]
    }
   ],
   "source": [
    "for (x,y) in data:\n",
    "    print(x)"
   ]
  },
  {
   "cell_type": "code",
   "execution_count": 70,
   "id": "5d30fb71",
   "metadata": {},
   "outputs": [
    {
     "name": "stdout",
     "output_type": "stream",
     "text": [
      "11\n",
      "12\n",
      "13\n",
      "14\n",
      "15\n",
      "16\n"
     ]
    }
   ],
   "source": [
    "for (x,y) in data:\n",
    "    print(x)\n",
    "    print(y)"
   ]
  },
  {
   "cell_type": "code",
   "execution_count": 71,
   "id": "fc1d09db",
   "metadata": {},
   "outputs": [
    {
     "data": {
      "text/plain": [
       "[(11, 12), (13, 14), (15, 16)]"
      ]
     },
     "execution_count": 71,
     "metadata": {},
     "output_type": "execute_result"
    }
   ],
   "source": [
    "data"
   ]
  },
  {
   "cell_type": "code",
   "execution_count": 74,
   "id": "3da2f75c",
   "metadata": {},
   "outputs": [],
   "source": [
    "a=data[0]"
   ]
  },
  {
   "cell_type": "code",
   "execution_count": 76,
   "id": "e2108aa5",
   "metadata": {},
   "outputs": [
    {
     "data": {
      "text/plain": [
       "11"
      ]
     },
     "execution_count": 76,
     "metadata": {},
     "output_type": "execute_result"
    }
   ],
   "source": [
    "a[0]"
   ]
  },
  {
   "cell_type": "code",
   "execution_count": 77,
   "id": "d97a0833",
   "metadata": {},
   "outputs": [],
   "source": [
    "b=data[1]"
   ]
  },
  {
   "cell_type": "code",
   "execution_count": 78,
   "id": "2ffa654a",
   "metadata": {},
   "outputs": [
    {
     "data": {
      "text/plain": [
       "14"
      ]
     },
     "execution_count": 78,
     "metadata": {},
     "output_type": "execute_result"
    }
   ],
   "source": [
    "b[1]"
   ]
  },
  {
   "cell_type": "code",
   "execution_count": 79,
   "id": "dcbc0ebe",
   "metadata": {},
   "outputs": [],
   "source": [
    "c=data[2]"
   ]
  },
  {
   "cell_type": "code",
   "execution_count": 80,
   "id": "a370b342",
   "metadata": {},
   "outputs": [
    {
     "data": {
      "text/plain": [
       "15"
      ]
     },
     "execution_count": 80,
     "metadata": {},
     "output_type": "execute_result"
    }
   ],
   "source": [
    "c[0]"
   ]
  },
  {
   "cell_type": "code",
   "execution_count": 81,
   "id": "5eef32d6",
   "metadata": {},
   "outputs": [
    {
     "name": "stdout",
     "output_type": "stream",
     "text": [
      "11 14 15\n"
     ]
    }
   ],
   "source": [
    "print(a[0],b[1],c[0])"
   ]
  },
  {
   "cell_type": "code",
   "execution_count": null,
   "id": "ceab864b",
   "metadata": {},
   "outputs": [],
   "source": []
  }
 ],
 "metadata": {
  "kernelspec": {
   "display_name": "Python 3 (ipykernel)",
   "language": "python",
   "name": "python3"
  },
  "language_info": {
   "codemirror_mode": {
    "name": "ipython",
    "version": 3
   },
   "file_extension": ".py",
   "mimetype": "text/x-python",
   "name": "python",
   "nbconvert_exporter": "python",
   "pygments_lexer": "ipython3",
   "version": "3.9.7"
  }
 },
 "nbformat": 4,
 "nbformat_minor": 5
}
